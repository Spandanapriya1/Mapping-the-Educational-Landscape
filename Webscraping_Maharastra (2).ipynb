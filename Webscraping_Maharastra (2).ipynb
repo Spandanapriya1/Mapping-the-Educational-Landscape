{
 "cells": [
  {
   "cell_type": "code",
   "execution_count": 1,
   "id": "fc37e27d-b5e6-4eb0-82a3-ad764420501f",
   "metadata": {},
   "outputs": [],
   "source": [
    "import requests\n",
    "from bs4 import BeautifulSoup\n",
    "import pandas as pd\n",
    "import csv"
   ]
  },
  {
   "cell_type": "code",
   "execution_count": 2,
   "id": "a91cfaef-cf21-4b24-9331-4e2c1eb0f70b",
   "metadata": {},
   "outputs": [],
   "source": [
    "url = \"https://www.getmyuni.com/engineering-colleges/maharashtra\""
   ]
  },
  {
   "cell_type": "code",
   "execution_count": 3,
   "id": "bf174774-6505-4e6b-8c27-15f1d74532db",
   "metadata": {},
   "outputs": [
    {
     "data": {
      "text/plain": [
       "<Response [200]>"
      ]
     },
     "execution_count": 3,
     "metadata": {},
     "output_type": "execute_result"
    }
   ],
   "source": [
    "r = requests.get(url)\n",
    "r"
   ]
  },
  {
   "cell_type": "code",
   "execution_count": 4,
   "id": "f9604394-05f8-4a0d-8f3a-6bbc34b912b4",
   "metadata": {},
   "outputs": [],
   "source": [
    "soup = BeautifulSoup(r.content,'html.parser')"
   ]
  },
  {
   "cell_type": "code",
   "execution_count": 5,
   "id": "df119092-1426-4247-a840-4029acdd15b5",
   "metadata": {},
   "outputs": [],
   "source": [
    "names=soup.find_all('h2',class_='college__name')\n",
    "city=soup.find_all('div',class_='detail__list__mobile')\n",
    "fees=soup.find_all('div',class_='highlight__value')"
   ]
  },
  {
   "cell_type": "code",
   "execution_count": 6,
   "id": "41f8f9ac-64cb-4c23-be17-b93bae48db7b",
   "metadata": {},
   "outputs": [],
   "source": [
    "college_names = []\n",
    "college_cities = []\n",
    "college_fees = []"
   ]
  },
  {
   "cell_type": "code",
   "execution_count": 7,
   "id": "57274bbd-ed9b-4cde-9b6e-e83f72c81f71",
   "metadata": {},
   "outputs": [],
   "source": [
    "for name, city, fee in zip(names, city, fees):\n",
    "    college_names.append(name.text.strip())\n",
    "    college_cities.append(city.text.strip())\n",
    "    college_fees.append(fee.text.strip())"
   ]
  },
  {
   "cell_type": "code",
   "execution_count": 10,
   "id": "6183f5e3-902e-4053-88d0-37acab9d40a6",
   "metadata": {},
   "outputs": [
    {
     "name": "stdout",
     "output_type": "stream",
     "text": [
      "{'college_names': [], 'college_cities': [], 'college_fees': []}\n"
     ]
    }
   ],
   "source": [
    "college_data = {'college_names':college_names, 'college_cities':college_cities, 'college_fees':college_fees}\n",
    "print(college_data)\n",
    "model=pd.DataFrame(data=college_data)"
   ]
  },
  {
   "cell_type": "code",
   "execution_count": 11,
   "id": "bf14de46-798b-4b9d-9c68-bfd475c44f40",
   "metadata": {},
   "outputs": [],
   "source": [
    "model.to_csv(\"Maharastra_csv_file.csv\")"
   ]
  },
  {
   "cell_type": "code",
   "execution_count": null,
   "id": "af2a9551-14b0-4974-86ac-734c1eb653e0",
   "metadata": {},
   "outputs": [],
   "source": []
  }
 ],
 "metadata": {
  "kernelspec": {
   "display_name": "Python 3 (ipykernel)",
   "language": "python",
   "name": "python3"
  },
  "language_info": {
   "codemirror_mode": {
    "name": "ipython",
    "version": 3
   },
   "file_extension": ".py",
   "mimetype": "text/x-python",
   "name": "python",
   "nbconvert_exporter": "python",
   "pygments_lexer": "ipython3",
   "version": "3.13.0"
  }
 },
 "nbformat": 4,
 "nbformat_minor": 5
}
