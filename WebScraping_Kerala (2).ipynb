{
 "cells": [
  {
   "cell_type": "code",
   "execution_count": 1,
   "id": "286e5eaf-d789-48e4-92fe-aac6b49478a8",
   "metadata": {},
   "outputs": [],
   "source": [
    "import requests\n",
    "from bs4 import BeautifulSoup\n",
    "import pandas as pd\n",
    "import csv"
   ]
  },
  {
   "cell_type": "code",
   "execution_count": 5,
   "id": "aaea32fe-a4bd-4455-bdd7-b9b01900b9e0",
   "metadata": {},
   "outputs": [],
   "source": [
    "url = \"https://www.getmyuni.com/btech-colleges/kerala\""
   ]
  },
  {
   "cell_type": "code",
   "execution_count": 6,
   "id": "3b886740-902b-48b6-83ff-c042e17b7eb3",
   "metadata": {},
   "outputs": [
    {
     "data": {
      "text/plain": [
       "<Response [200]>"
      ]
     },
     "execution_count": 6,
     "metadata": {},
     "output_type": "execute_result"
    }
   ],
   "source": [
    "r = requests.get(url)\n",
    "r"
   ]
  },
  {
   "cell_type": "code",
   "execution_count": 7,
   "id": "e38bb804-a6d8-414d-914c-cb128bcb4176",
   "metadata": {},
   "outputs": [],
   "source": [
    "soup = BeautifulSoup(r.content,'html.parser')"
   ]
  },
  {
   "cell_type": "code",
   "execution_count": 8,
   "id": "27197d1b-fc3a-4cf2-a3bb-1bc8e1cf404b",
   "metadata": {},
   "outputs": [],
   "source": [
    "names=soup.find_all('h2',class_='college__name')\n",
    "city=soup.find_all('div',class_='detail__list__mobile')\n",
    "fees=soup.find_all('div',class_='highlight__value')"
   ]
  },
  {
   "cell_type": "code",
   "execution_count": 9,
   "id": "a658b12b-68bd-4ab3-aa5a-4e1f9304a634",
   "metadata": {},
   "outputs": [],
   "source": [
    "college_names = []\n",
    "college_cities = []\n",
    "college_fees = []"
   ]
  },
  {
   "cell_type": "code",
   "execution_count": 10,
   "id": "316058d3-df08-4f04-950b-bb4f1549f6e9",
   "metadata": {},
   "outputs": [],
   "source": [
    "for name, city, fee in zip(names, city, fees):\n",
    "    college_names.append(name.text.strip())\n",
    "    college_cities.append(city.text.strip())\n",
    "    college_fees.append(fee.text.strip())"
   ]
  },
  {
   "cell_type": "code",
   "execution_count": 11,
   "id": "6bf6edf7-4468-4927-84e9-770eb9e28fb8",
   "metadata": {},
   "outputs": [
    {
     "name": "stdout",
     "output_type": "stream",
     "text": [
      "{'college_names': [], 'college_cities': [], 'college_fees': []}\n"
     ]
    }
   ],
   "source": [
    "college_data = {'college_names':college_names, 'college_cities':college_cities, 'college_fees':college_fees}\n",
    "print(college_data)\n",
    "model=pd.DataFrame(data=college_data)"
   ]
  },
  {
   "cell_type": "code",
   "execution_count": 12,
   "id": "a810c5a7-a750-41ad-8ce8-9c00b045c149",
   "metadata": {},
   "outputs": [],
   "source": [
    "model.to_csv(\"Kerala_csv_file.csv\")"
   ]
  },
  {
   "cell_type": "code",
   "execution_count": null,
   "id": "ff94863f-9052-4b0c-9f12-b35536382993",
   "metadata": {},
   "outputs": [],
   "source": []
  }
 ],
 "metadata": {
  "kernelspec": {
   "display_name": "Python 3 (ipykernel)",
   "language": "python",
   "name": "python3"
  },
  "language_info": {
   "codemirror_mode": {
    "name": "ipython",
    "version": 3
   },
   "file_extension": ".py",
   "mimetype": "text/x-python",
   "name": "python",
   "nbconvert_exporter": "python",
   "pygments_lexer": "ipython3",
   "version": "3.13.0"
  }
 },
 "nbformat": 4,
 "nbformat_minor": 5
}
